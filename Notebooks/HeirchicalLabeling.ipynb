{
 "cells": [
  {
   "cell_type": "code",
   "execution_count": 1,
   "metadata": {},
   "outputs": [],
   "source": [
    "import os\n",
    "import time\n",
    "import openai\n",
    "from tqdm import tqdm\n",
    "import configparser\n",
    "import pickle\n",
    "import queue\n",
    "\n",
    "import sys\n",
    "sys.path.insert(0, \"../Helper Stuff/\")\n",
    "import tree"
   ]
  },
  {
   "attachments": {},
   "cell_type": "markdown",
   "metadata": {},
   "source": [
    "API Set Up"
   ]
  },
  {
   "cell_type": "code",
   "execution_count": 2,
   "metadata": {},
   "outputs": [],
   "source": [
    "config_path = \"../config.ini\"\n",
    "config = configparser.ConfigParser()\n",
    "config.read(config_path)\n",
    "openai_api_key = config.get('openai', 'api_key')\n",
    "openai.api_key = openai_api_key"
   ]
  },
  {
   "attachments": {},
   "cell_type": "markdown",
   "metadata": {},
   "source": [
    "Tree Construction"
   ]
  },
  {
   "cell_type": "code",
   "execution_count": 3,
   "metadata": {},
   "outputs": [],
   "source": [
    "embeddings = \"../Helper Stuff/embeddings.json\"\n",
    "my_tree = tree.build_tree(embeddings)"
   ]
  },
  {
   "attachments": {},
   "cell_type": "markdown",
   "metadata": {},
   "source": [
    "Load the one word summaries created by ChatGPT "
   ]
  },
  {
   "cell_type": "code",
   "execution_count": 4,
   "metadata": {},
   "outputs": [],
   "source": [
    "with open(\"../Data/openai_summaries_2\", \"rb\") as fp:\n",
    "    summaries = pickle.load(fp)"
   ]
  },
  {
   "attachments": {},
   "cell_type": "markdown",
   "metadata": {},
   "source": [
    "Create Labels"
   ]
  },
  {
   "cell_type": "code",
   "execution_count": 5,
   "metadata": {},
   "outputs": [],
   "source": [
    "def determine_label(topics, model_engine=\"gpt-3.5-turbo\", prompt = \"In a minimum of 1 word and a maximum of 3 words find the most specific commonality between the following topics:\"):\n",
    "    main_text = \"{} {}\".format(prompt, \" \".join(topics))\n",
    "    prompt = {\"role\":\"system\", \"content\": main_text}\n",
    "    try:\n",
    "        response = openai.ChatCompletion.create(model = model_engine, messages = [prompt])[\"choices\"][0][\"message\"][\"content\"]\n",
    "    except:\n",
    "        print(\"Error with rate limit waiting 60 seconds\")\n",
    "        time.sleep(60)\n",
    "        print(\"Done Sleeping\")\n",
    "        response = openai.ChatCompletion.create(model = model_engine, messages = [prompt])[\"choices\"][0][\"message\"][\"content\"]\n",
    "    return response"
   ]
  },
  {
   "attachments": {},
   "cell_type": "markdown",
   "metadata": {},
   "source": [
    "Traverses the tree bottom up creating labels. Childrens labels are used to create parents labels"
   ]
  },
  {
   "cell_type": "code",
   "execution_count": 6,
   "metadata": {},
   "outputs": [],
   "source": [
    "def populate_labels(tree, summaries, prompt = None):\n",
    "    if tree.is_leaf():\n",
    "        tree.label = summaries[tree.files[0]]\n",
    "        return \n",
    "    else:\n",
    "        if prompt == None:\n",
    "            populate_labels(tree.left, summaries)\n",
    "            populate_labels(tree.right, summaries)\n",
    "        else:\n",
    "            populate_labels(tree.left, summaries, prompt)\n",
    "            populate_labels(tree.right, summaries, prompt)\n",
    "        new_label = determine_label([tree.left.label, tree.right.label])\n",
    "        tree.label = new_label\n",
    "        return"
   ]
  },
  {
   "cell_type": "code",
   "execution_count": 36,
   "metadata": {},
   "outputs": [
    {
     "name": "stdout",
     "output_type": "stream",
     "text": [
      "Error with rate limit waiting 60 seconds\n",
      "Done Sleeping\n",
      "Error with rate limit waiting 60 seconds\n",
      "Done Sleeping\n",
      "Error with rate limit waiting 60 seconds\n",
      "Done Sleeping\n",
      "Error with rate limit waiting 60 seconds\n",
      "Done Sleeping\n"
     ]
    }
   ],
   "source": [
    "populate_labels(my_tree, summaries)"
   ]
  },
  {
   "attachments": {},
   "cell_type": "markdown",
   "metadata": {},
   "source": [
    "Level Order traversal of the Tree to get label and files for each cluster"
   ]
  },
  {
   "cell_type": "code",
   "execution_count": 7,
   "metadata": {},
   "outputs": [],
   "source": [
    "def level_order_labels(the_tree):\n",
    "    q = queue.Queue()\n",
    "    q.put(the_tree)\n",
    "    q.put(\"M\")\n",
    "    levels = []\n",
    "    labels =[]\n",
    "    while not q.empty():\n",
    "        val = q.get()\n",
    "        if val == \"M\":\n",
    "            levels.append(labels)\n",
    "            labels = []\n",
    "            if not q.empty():\n",
    "                q.put(\"M\")\n",
    "        else:\n",
    "            labels.append((val.label, val.files))\n",
    "            if val.left is not None:\n",
    "                q.put(val.left)\n",
    "            if val.right is not None:\n",
    "                q.put(val.right)\n",
    "    return levels"
   ]
  },
  {
   "attachments": {},
   "cell_type": "markdown",
   "metadata": {},
   "source": [
    "Write the current cluster labels and files to a file"
   ]
  },
  {
   "cell_type": "code",
   "execution_count": 9,
   "metadata": {},
   "outputs": [],
   "source": [
    "def write_output(levels, path = \"../Data/ClusterLabels.txt\"):\n",
    "    with open(path, \"w+\") as f:\n",
    "        i = 1\n",
    "        for level in levels:\n",
    "            f.write(\"Level: {}\\n\".format(i))\n",
    "            for cluster in level:\n",
    "                label, files = cluster[0], cluster[1]\n",
    "                f.write(\"    Cluster: {:<140} Files: {:<}\\n\".format(label, \", \".join(files)))\n",
    "            i += 1"
   ]
  },
  {
   "cell_type": "code",
   "execution_count": 8,
   "metadata": {},
   "outputs": [
    {
     "ename": "NameError",
     "evalue": "name 'levels' is not defined",
     "output_type": "error",
     "traceback": [
      "\u001b[0;31m---------------------------------------------------------------------------\u001b[0m",
      "\u001b[0;31mNameError\u001b[0m                                 Traceback (most recent call last)",
      "\u001b[1;32m/Users/kaanankharwa/Desktop/Label-Generation/Notebooks/HeirchicalLabeling.ipynb Cell 17\u001b[0m in \u001b[0;36m1\n\u001b[1;32m     <a href='vscode-notebook-cell:/Users/kaanankharwa/Desktop/Label-Generation/Notebooks/HeirchicalLabeling.ipynb#X22sZmlsZQ%3D%3D?line=9'>10</a>\u001b[0m                 f\u001b[39m.\u001b[39mwrite(\u001b[39m\"\u001b[39m\u001b[39m    Cluster: \u001b[39m\u001b[39m{:<140}\u001b[39;00m\u001b[39m Files: \u001b[39m\u001b[39m{:<}\u001b[39;00m\u001b[39m\\n\u001b[39;00m\u001b[39m\"\u001b[39m\u001b[39m.\u001b[39mformat(label, \u001b[39m\"\u001b[39m\u001b[39m, \u001b[39m\u001b[39m\"\u001b[39m\u001b[39m.\u001b[39mjoin(files)))\n\u001b[1;32m     <a href='vscode-notebook-cell:/Users/kaanankharwa/Desktop/Label-Generation/Notebooks/HeirchicalLabeling.ipynb#X22sZmlsZQ%3D%3D?line=10'>11</a>\u001b[0m             i \u001b[39m+\u001b[39m\u001b[39m=\u001b[39m \u001b[39m1\u001b[39m\n\u001b[0;32m---> <a href='vscode-notebook-cell:/Users/kaanankharwa/Desktop/Label-Generation/Notebooks/HeirchicalLabeling.ipynb#X22sZmlsZQ%3D%3D?line=12'>13</a>\u001b[0m write_output(levels, path)\n",
      "\u001b[0;31mNameError\u001b[0m: name 'levels' is not defined"
     ]
    }
   ],
   "source": [
    "path = \"../Data/ClusterLabels.txt\"\n",
    "levels = level_order_labels(my_tree)\n",
    "write_output(levels, path)"
   ]
  },
  {
   "attachments": {},
   "cell_type": "markdown",
   "metadata": {},
   "source": [
    "Attempt 2 at Generating Labels: Use the one word summaries of all files in the cluster to generate label"
   ]
  },
  {
   "cell_type": "code",
   "execution_count": 10,
   "metadata": {},
   "outputs": [],
   "source": [
    "def populate_labels2(tree, summaries, prompt = None):\n",
    "    if tree.is_leaf():\n",
    "        tree.label = summaries[tree.files[0]]\n",
    "        return \n",
    "    else:\n",
    "        if prompt == None:\n",
    "            populate_labels(tree.left, summaries)\n",
    "            populate_labels(tree.right, summaries)\n",
    "        else:\n",
    "            populate_labels(tree.left, summaries, prompt)\n",
    "            populate_labels(tree.right, summaries, prompt)\n",
    "        left_labels = [summaries[x] for x in tree.left.files]\n",
    "        right_labels = [summaries[x] for x in tree.right.files]\n",
    "        new_label = determine_label(left_labels + right_labels)\n",
    "        tree.label = new_label\n",
    "        return"
   ]
  },
  {
   "cell_type": "code",
   "execution_count": 11,
   "metadata": {},
   "outputs": [
    {
     "name": "stdout",
     "output_type": "stream",
     "text": [
      "Error with rate limit waiting 60 seconds\n",
      "Done Sleeping\n"
     ]
    }
   ],
   "source": [
    "populate_labels2(my_tree, summaries)"
   ]
  },
  {
   "cell_type": "code",
   "execution_count": 12,
   "metadata": {},
   "outputs": [],
   "source": [
    "path = \"../Data/ClusterLabels2.txt\"\n",
    "levels = level_order_labels(my_tree)\n",
    "write_output(levels, path)"
   ]
  }
 ],
 "metadata": {
  "kernelspec": {
   "display_name": "Python 3",
   "language": "python",
   "name": "python3"
  },
  "language_info": {
   "codemirror_mode": {
    "name": "ipython",
    "version": 3
   },
   "file_extension": ".py",
   "mimetype": "text/x-python",
   "name": "python",
   "nbconvert_exporter": "python",
   "pygments_lexer": "ipython3",
   "version": "3.10.5"
  },
  "orig_nbformat": 4
 },
 "nbformat": 4,
 "nbformat_minor": 2
}
