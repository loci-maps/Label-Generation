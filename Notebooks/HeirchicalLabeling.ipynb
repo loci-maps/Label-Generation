{
 "cells": [
  {
   "cell_type": "code",
   "execution_count": 26,
   "metadata": {},
   "outputs": [],
   "source": [
    "import os\n",
    "import time\n",
    "import openai\n",
    "from tqdm import tqdm\n",
    "import configparser\n",
    "import pickle\n",
    "import queue\n",
    "\n",
    "import sys\n",
    "sys.path.insert(0, \"../Helper Stuff/\")\n",
    "import tree"
   ]
  },
  {
   "attachments": {},
   "cell_type": "markdown",
   "metadata": {},
   "source": [
    "API Set Up"
   ]
  },
  {
   "cell_type": "code",
   "execution_count": 2,
   "metadata": {},
   "outputs": [],
   "source": [
    "config_path = \"../config.ini\"\n",
    "config = configparser.ConfigParser()\n",
    "config.read(config_path)\n",
    "openai_api_key = config.get('openai', 'api_key')\n",
    "openai.api_key = openai_api_key"
   ]
  },
  {
   "attachments": {},
   "cell_type": "markdown",
   "metadata": {},
   "source": [
    "Tree Construction"
   ]
  },
  {
   "cell_type": "code",
   "execution_count": 32,
   "metadata": {},
   "outputs": [],
   "source": [
    "embeddings = \"../Helper Stuff/embeddings.json\"\n",
    "my_tree = tree.build_tree(embeddings)"
   ]
  },
  {
   "attachments": {},
   "cell_type": "markdown",
   "metadata": {},
   "source": [
    "Load the one word summaries created by ChatGPT "
   ]
  },
  {
   "cell_type": "code",
   "execution_count": 33,
   "metadata": {},
   "outputs": [],
   "source": [
    "with open(\"../Data/openai_summaries_2\", \"rb\") as fp:\n",
    "    summaries = pickle.load(fp)"
   ]
  },
  {
   "attachments": {},
   "cell_type": "markdown",
   "metadata": {},
   "source": [
    "Create Labels"
   ]
  },
  {
   "cell_type": "code",
   "execution_count": 34,
   "metadata": {},
   "outputs": [],
   "source": [
    "def determine_label(topics, model_engine=\"gpt-3.5-turbo\", prompt = \"In a minimum of 1 word and a maximum of 3 words find the most specific commonality between the following topics:\"):\n",
    "    main_text = \"{} {}\".format(prompt, \" \".join(topics))\n",
    "    prompt = {\"role\":\"system\", \"content\": main_text}\n",
    "    try:\n",
    "        response = openai.ChatCompletion.create(model = model_engine, messages = [prompt])[\"choices\"][0][\"message\"][\"content\"]\n",
    "    except:\n",
    "        print(\"Error with rate limit waiting 60 seconds\")\n",
    "        time.sleep(60)\n",
    "        print(\"Done Sleeping\")\n",
    "        response = openai.ChatCompletion.create(model = model_engine, messages = [prompt])[\"choices\"][0][\"message\"][\"content\"]\n",
    "    return response"
   ]
  },
  {
   "attachments": {},
   "cell_type": "markdown",
   "metadata": {},
   "source": [
    "Traverses the tree bottom up creating labels. Childrens labels are used to create parents labels"
   ]
  },
  {
   "cell_type": "code",
   "execution_count": 35,
   "metadata": {},
   "outputs": [],
   "source": [
    "def populate_labels(tree, summaries, prompt = None):\n",
    "    if tree.is_leaf():\n",
    "        tree.label = summaries[tree.files[0]]\n",
    "        return \n",
    "    else:\n",
    "        if prompt == None:\n",
    "            populate_labels(tree.left, summaries)\n",
    "            populate_labels(tree.right, summaries)\n",
    "        else:\n",
    "            populate_labels(tree.left, summaries, prompt)\n",
    "            populate_labels(tree.right, summaries, prompt)\n",
    "        new_label = determine_label([tree.left.label, tree.right.label])\n",
    "        tree.label = new_label\n",
    "        return"
   ]
  },
  {
   "cell_type": "code",
   "execution_count": 36,
   "metadata": {},
   "outputs": [
    {
     "name": "stdout",
     "output_type": "stream",
     "text": [
      "Error with rate limit waiting 60 seconds\n",
      "Done Sleeping\n",
      "Error with rate limit waiting 60 seconds\n",
      "Done Sleeping\n",
      "Error with rate limit waiting 60 seconds\n",
      "Done Sleeping\n",
      "Error with rate limit waiting 60 seconds\n",
      "Done Sleeping\n"
     ]
    }
   ],
   "source": [
    "populate_labels(my_tree, summaries)"
   ]
  },
  {
   "attachments": {},
   "cell_type": "markdown",
   "metadata": {},
   "source": [
    "Level Order traversal of the Tree to get label and files for each cluster"
   ]
  },
  {
   "cell_type": "code",
   "execution_count": 50,
   "metadata": {},
   "outputs": [],
   "source": [
    "def level_order_labels(the_tree):\n",
    "    q = queue.Queue()\n",
    "    q.put(the_tree)\n",
    "    q.put(\"M\")\n",
    "    levels = []\n",
    "    labels =[]\n",
    "    while not q.empty():\n",
    "        val = q.get()\n",
    "        if val == \"M\":\n",
    "            levels.append(labels)\n",
    "            labels = []\n",
    "            if not q.empty():\n",
    "                q.put(\"M\")\n",
    "        else:\n",
    "            labels.append((val.label, val.files))\n",
    "            if val.left is not None:\n",
    "                q.put(val.left)\n",
    "            if val.right is not None:\n",
    "                q.put(val.right)\n",
    "    return levels"
   ]
  },
  {
   "cell_type": "code",
   "execution_count": 51,
   "metadata": {},
   "outputs": [],
   "source": [
    "levels = level_order_labels(my_tree)"
   ]
  },
  {
   "attachments": {},
   "cell_type": "markdown",
   "metadata": {},
   "source": [
    "Write the current cluster labels and files to a file"
   ]
  },
  {
   "cell_type": "code",
   "execution_count": 71,
   "metadata": {},
   "outputs": [],
   "source": [
    "with open(\"../Data/ClusterLabels.txt\", \"w+\") as f:\n",
    "    i = 1\n",
    "    for level in levels:\n",
    "        f.write(\"Level: {}\\n\".format(i))\n",
    "        for cluster in level:\n",
    "            label, files = cluster[0], cluster[1]\n",
    "            f.write(\"    Cluster: {:<140} Files: {:<}\\n\".format(label, \", \".join(files)))\n",
    "        i += 1\n"
   ]
  }
 ],
 "metadata": {
  "kernelspec": {
   "display_name": "Python 3",
   "language": "python",
   "name": "python3"
  },
  "language_info": {
   "codemirror_mode": {
    "name": "ipython",
    "version": 3
   },
   "file_extension": ".py",
   "mimetype": "text/x-python",
   "name": "python",
   "nbconvert_exporter": "python",
   "pygments_lexer": "ipython3",
   "version": "3.10.5"
  },
  "orig_nbformat": 4
 },
 "nbformat": 4,
 "nbformat_minor": 2
}
